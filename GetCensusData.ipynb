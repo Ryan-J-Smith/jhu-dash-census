{
 "cells": [
  {
   "cell_type": "markdown",
   "metadata": {},
   "source": [
    "# Get Census Data"
   ]
  },
  {
   "cell_type": "code",
   "execution_count": 11,
   "metadata": {
    "collapsed": false
   },
   "outputs": [],
   "source": [
    "from census import Census\n",
    "from us import states\n",
    "import pandas as pd\n",
    "\n",
    "# Specify state and county to download (select one)\n",
    "\n",
    "loc_name, state_codes, county_codes = \"balt_city\", states.MD.fips, list([510]) # Baltimore\n",
    "# loc_name, state_codes, county_codes = \"greater_balt\", states.MD.fips, list([510, 5]) # Baltimore City and County\n",
    "#loc_name, state_codes, county_codes = \"maryland\", states.MD.fips, None # All of Maryland\n",
    "#loc_name, state_codes, county_codes = \"delmarva\", [states.MD.fips, states.DE.fips, states.VA.fips], None # All of DelMarVa\n",
    "\n",
    "# CENSUS API Stuff\n",
    "CENSUS_API = \"bdadccb272f83b2244d1b584baef832489fd5c19\"\n",
    "c = Census(CENSUS_API) # Initialize census class with API key\n",
    "\n",
    "# Generate codes for census variables of interest\n",
    "var_ids = [\"B19001_0{:02d}E\".format(x) for x in range(2, 18)] # Household income over 12 months\n",
    "\n",
    "# Local Storage Parameters\n",
    "LOCAL_DATA_DIR = './data/'\n",
    "ATTR_FILE_END = '_census_data.csv'\n",
    "attr_outfile = LOCAL_DATA_DIR + loc_name + ATTR_FILE_END\n"
   ]
  },
  {
   "cell_type": "markdown",
   "metadata": {},
   "source": [
    "## Define helper functions\n",
    "\n",
    "The following functions are useful for getting the census data and converting it to a pandas dataframe."
   ]
  },
  {
   "cell_type": "code",
   "execution_count": 12,
   "metadata": {
    "collapsed": true
   },
   "outputs": [],
   "source": [
    "def build_bg_fips(record):\n",
    "    fips_code = record['state'] + record['county'] + record['tract'] + record['block group']\n",
    "    return str(fips_code)\n",
    "\n",
    "def build_tract_fips(record):\n",
    "    fips_code = record['state'] + record['county'] + record['tract']\n",
    "    return str(fips_code)\n",
    "\n",
    "\n",
    "def census_bg_to_dataframe(var_list, state_code, county_codes):\n",
    "    fips_codes = []\n",
    "    all_records = []\n",
    "    \n",
    "    for county in county_codes:        \n",
    "        census_data = c.acs.get(var_list, {'for': 'tract:*', 'in': 'state:{0}'.format(state_code)})\n",
    "        \n",
    "        for idx, record in enumerate(census_data):\n",
    "            # Build fips codes\n",
    "            fips_code = build_bg_fips(record)\n",
    "            census_data[idx][\"fips\"] = fips_code\n",
    "\n",
    "            # Eliminate original code components\n",
    "            key_list = ['state', 'county', 'tract', 'block group']\n",
    "            for key in key_list:\n",
    "                if key in census_data[idx]: \n",
    "                    del census_data[idx][key]\n",
    "        \n",
    "        all_records.extend(census_data)\n",
    "        \n",
    "    census_df = pd.DataFrame(all_records)\n",
    "    census_df = census_df.set_index(\"fips\")\n",
    "                \n",
    "    return census_df\n",
    "\n",
    "def census_tracts_to_dataframe(var_list, state_codes):\n",
    "    fips_codes = []\n",
    "    all_records = []\n",
    "    \n",
    "    for state_id in state_codes:\n",
    "        census_data = c.acs.get(var_list, {'for': 'tract:*', 'in': 'state:{0}'.format(state_id)})\n",
    "\n",
    "        for idx, record in enumerate(census_data):\n",
    "\n",
    "            # Build fips codes\n",
    "            fips_code = build_tract_fips(record)\n",
    "            census_data[idx][\"fips\"] = fips_code\n",
    "\n",
    "            # Eliminate original code components\n",
    "            key_list = ['state', 'county', 'tract']\n",
    "            for key in key_list:\n",
    "                if key in census_data[idx]: \n",
    "                    del census_data[idx][key]\n",
    "        \n",
    "        all_records.extend(census_data)\n",
    "      \n",
    "    census_df = pd.DataFrame(all_records)\n",
    "    census_df = census_df.set_index(\"fips\")\n",
    "                \n",
    "    return census_df\n"
   ]
  },
  {
   "cell_type": "code",
   "execution_count": 13,
   "metadata": {
    "collapsed": false
   },
   "outputs": [],
   "source": [
    "# This segment of code will get household income estimates for each block group in Baltimore city\n",
    "census_df = census_tracts_to_dataframe(var_ids, state_codes)\n",
    "census_df.to_csv(attr_outfile) # Write to csv"
   ]
  }
 ],
 "metadata": {
  "kernelspec": {
   "display_name": "Python 2",
   "language": "python",
   "name": "python2"
  },
  "language_info": {
   "codemirror_mode": {
    "name": "ipython",
    "version": 2
   },
   "file_extension": ".py",
   "mimetype": "text/x-python",
   "name": "python",
   "nbconvert_exporter": "python",
   "pygments_lexer": "ipython2",
   "version": "2.7.9"
  }
 },
 "nbformat": 4,
 "nbformat_minor": 0
}
