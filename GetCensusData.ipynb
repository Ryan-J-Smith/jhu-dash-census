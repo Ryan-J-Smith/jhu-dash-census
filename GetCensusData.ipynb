{
 "cells": [
  {
   "cell_type": "markdown",
   "metadata": {},
   "source": [
    "# Get Census Data\n",
    "\n",
    "This script is meant to access American Community Survey data using the Census API. When run in completion, this script will retrieve the data and export a CSV file where each row is a census tract and each column is one of the requested variables.\n",
    "\n",
    "Currently the script returns data for each census **tract** within the states and counties specified.  The script will need to be slightly modified if **block group** information is desired."
   ]
  },
  {
   "cell_type": "markdown",
   "metadata": {},
   "source": [
    "## Initialize parameters: regions & variables of interest"
   ]
  },
  {
   "cell_type": "code",
   "execution_count": 14,
   "metadata": {
    "collapsed": false
   },
   "outputs": [],
   "source": [
    "from census import Census\n",
    "from us import states\n",
    "import pandas as pd\n",
    "import time\n",
    "import math\n",
    "\n",
    "pd.set_option('display.max_columns', None) # This ensures we can view all the columns\n",
    "\n",
    "# Specify state and county to download (select one)\n",
    "\n",
    "loc_name, state_codes, county_codes = \"balt_city\", list([states.MD.fips]), list([510]) # Baltimore\n",
    "# loc_name, state_codes, county_codes = \"greater_balt\", states.MD.fips, list([510, 5]) # Baltimore City and County\n",
    "#loc_name, state_codes, county_codes = \"maryland\", states.MD.fips, None # All of Maryland\n",
    "#loc_name, state_codes, county_codes = \"delmarva\", [states.MD.fips, states.DE.fips, states.VA.fips], None # All of DelMarVa\n",
    "\n",
    "# CENSUS API Stuff\n",
    "CENSUS_API = # Your API key here\n",
    "c = Census(CENSUS_API) # Initialize census class with API key\n",
    "\n",
    "# Generate codes for census variables of interest\n",
    "var_ids = []\n",
    "var_ids.extend([\"B19001_0{:02d}E\".format(x) for x in range(2, 18)]) # Household income over 12 months\n",
    "var_ids.extend([\"B19037_0{:02d}E\".format(x) for x in range(1, 70)]) # Household income over 12 months by age\n",
    "\n",
    "# Local Storage Parameters\n",
    "LOCAL_DATA_DIR = './data/'\n",
    "ATTR_FILE_END = '_census_data.csv'\n",
    "attr_outfile = LOCAL_DATA_DIR + loc_name + ATTR_FILE_END\n"
   ]
  },
  {
   "cell_type": "markdown",
   "metadata": {},
   "source": [
    "## Define helper functions\n",
    "\n",
    "The following functions are useful for getting the census data and converting it to a pandas dataframe."
   ]
  },
  {
   "cell_type": "code",
   "execution_count": 19,
   "metadata": {
    "collapsed": false
   },
   "outputs": [],
   "source": [
    "def build_tract_fips(record):\n",
    "    fips_code = record['state'] + record['county'] + record['tract']\n",
    "    return str(fips_code)\n",
    "\n",
    "def census_tracts_to_dataframe(var_list, state_codes, county_codes):\n",
    "    \n",
    "    CALL_LIM = 30 # Can only request 50 records at a time\n",
    "    fips_codes = []\n",
    "    all_records = []\n",
    "    \n",
    "    census_df = []\n",
    "    census_dict = {}\n",
    "    num_chunks = int(math.ceil(1.0 * len(var_list) / CALL_LIM))\n",
    "    \n",
    "    for state_id in state_codes:\n",
    "        print(\"State: {0}\".format(state_id))\n",
    "        \n",
    "        for county_id in county_codes:\n",
    "            print(\"County: {0}\".format(county_id))\n",
    "            \n",
    "            for chunk_num in range(0, num_chunks):\n",
    "                census_data = []\n",
    "                \n",
    "                chunk_start = chunk_num * CALL_LIM\n",
    "                chunk_end = (chunk_num + 1) * CALL_LIM\n",
    "                if chunk_end > len(var_list): \n",
    "                    chunk_end = len(var_list)\n",
    "\n",
    "                print(\"Chunk start: {0}\".format(chunk_start))\n",
    "                print(\"Chunk end: {0}\".format(chunk_end))\n",
    "                    \n",
    "                var_sublist = var_list[chunk_start:chunk_end]\n",
    "\n",
    "                census_data = c.acs.get(var_sublist, {'for': 'tract:*', 'in': 'state:{0} county{1}'.format(state_id, county_id)})\n",
    "                \n",
    "                print(\"Got {0} records.\".format(len(census_data)))\n",
    "                \n",
    "                for idx, record in enumerate(census_data):\n",
    "\n",
    "                    # Build fips codes\n",
    "                    fips_code = build_tract_fips(record)\n",
    "                    #census_data[idx][\"fips\"] = fips_code\n",
    "                    \n",
    "                    # Eliminate original code components\n",
    "                    key_list = ['state', 'county', 'tract']\n",
    "                    for key in key_list:\n",
    "                        if key in record: \n",
    "                            del record[key]\n",
    "                    \n",
    "                    if fips_code in census_dict:\n",
    "                        census_dict[fips_code].update(record)\n",
    "                    else:\n",
    "                        census_dict[fips_code] = record\n",
    "\n",
    "    census_df = pd.DataFrame(census_dict)\n",
    "    census_df = census_df.transpose()\n",
    "    census_df.index.name = \"fips\"\n",
    "    \n",
    "    return census_df\n"
   ]
  },
  {
   "cell_type": "markdown",
   "metadata": {},
   "source": [
    "## Make call for census data, write to file"
   ]
  },
  {
   "cell_type": "code",
   "execution_count": 20,
   "metadata": {
    "collapsed": false
   },
   "outputs": [
    {
     "name": "stdout",
     "output_type": "stream",
     "text": [
      "State: 24\n",
      "County: 510\n",
      "Chunk start: 0\n",
      "Chunk end: 30\n",
      "Got 1406 records.\n",
      "Chunk start: 30\n",
      "Chunk end: 60\n",
      "Got 1406 records.\n",
      "Chunk start: 60\n",
      "Chunk end: 85\n",
      "Got 1406 records.\n"
     ]
    }
   ],
   "source": [
    "# This segment of code will get household income estimates for each block group in Baltimore city\n",
    "census_df = census_tracts_to_dataframe(var_ids, state_codes, county_codes)\n",
    "census_df.to_csv(attr_outfile) # Write to csv"
   ]
  }
 ],
 "metadata": {
  "kernelspec": {
   "display_name": "Python 2",
   "language": "python",
   "name": "python2"
  },
  "language_info": {
   "codemirror_mode": {
    "name": "ipython",
    "version": 2
   },
   "file_extension": ".py",
   "mimetype": "text/x-python",
   "name": "python",
   "nbconvert_exporter": "python",
   "pygments_lexer": "ipython2",
   "version": "2.7.8"
  }
 },
 "nbformat": 4,
 "nbformat_minor": 0
}
