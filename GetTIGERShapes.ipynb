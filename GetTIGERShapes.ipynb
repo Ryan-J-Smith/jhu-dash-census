{
 "cells": [
  {
   "cell_type": "markdown",
   "metadata": {},
   "source": [
    "# Getting Shape Data\n",
    "\n",
    "When making data maps there are typically two components:\n",
    "\n",
    "1. Finding quantitative or qualitative data to visualize on the map.\n",
    "1. Actually drawing the map.\n",
    "\n",
    "For this second point we need geographic information.  When working with regions defined by the US Census, this data available in the format of TIGER Shapefiles.  In this script, we will assume that the desired shapefiles are those at the tract level.\n",
    "\n",
    "### Geopandas\n",
    "\n",
    "Installing `geopandas` on Linux and Mac can be accomplished with `pip install geopandas`.  Installing `geopandas` on Windows is trickier and users should follow [these instructions](http://geoffboeing.com/2014/09/using-geopandas-windows/)."
   ]
  },
  {
   "cell_type": "markdown",
   "metadata": {},
   "source": [
    "## Initialization"
   ]
  },
  {
   "cell_type": "code",
   "execution_count": 32,
   "metadata": {
    "collapsed": false
   },
   "outputs": [],
   "source": [
    "import geopandas as gpd\n",
    "import pandas as pd\n",
    "from us import states\n",
    "import requests\n",
    "import zipfile\n",
    "import os\n",
    "\n",
    "loc_name = \"maryland\"\n",
    "state_codes = list([int(states.MD.fips)])\n",
    "county_list = None # Extract all counties\n",
    "\n",
    "TIGER_BASE_URL = 'http://www2.census.gov/geo/tiger/TIGER2013/'\n",
    "TIGER_TRACT_DIR = 'TRACT/'\n",
    "\n",
    "# Local Storage Parameters\n",
    "LOCAL_DATA_DIR = './data/'\n",
    "GEO_SUB_DIR = 'geo/'\n",
    "\n",
    "GEO_FILE_END = '_geo_data.json'\n",
    "geo_outfile = LOCAL_DATA_DIR + loc_name + GEO_FILE_END"
   ]
  },
  {
   "cell_type": "markdown",
   "metadata": {},
   "source": [
    "## Get TIGER (shape) data"
   ]
  },
  {
   "cell_type": "code",
   "execution_count": 23,
   "metadata": {
    "collapsed": false
   },
   "outputs": [
    {
     "name": "stdout",
     "output_type": "stream",
     "text": [
      "Already had the file.  Great.\n"
     ]
    }
   ],
   "source": [
    "for state_id in state_codes:\n",
    "    tiger_zip_file = 'tl_2013_{0}_tract.zip'.format(state_id)\n",
    "\n",
    "    FULL_TIGER_URL = TIGER_BASE_URL + TIGER_TRACT_DIR + tiger_zip_file\n",
    "\n",
    "    # Check if file is in directory, else download it\n",
    "    if os.path.isfile(LOCAL_DATA_DIR + GEO_SUB_DIR + tiger_zip_file):\n",
    "        print(\"Already had the file.  Great.\")\n",
    "    else:\n",
    "        r = requests.get(FULL_TIGER_URL)\n",
    "\n",
    "        if r.status_code == requests.codes.ok:\n",
    "            print(\"Got the file! Copying to disk.\")\n",
    "            with open(LOCAL_DATA_DIR + GEO_SUB_DIR + tiger_zip_file, \"wb\") as f:\n",
    "                f.write(r.content)\n",
    "        else:\n",
    "            print(\"Something went wrong. Status code: {0}\".format(r.status_code))\n"
   ]
  },
  {
   "cell_type": "markdown",
   "metadata": {},
   "source": [
    "## Load TIGER data into GeoDataFrame"
   ]
  },
  {
   "cell_type": "code",
   "execution_count": 29,
   "metadata": {
    "collapsed": false
   },
   "outputs": [],
   "source": [
    "state_shapes = []\n",
    "for idx, state_id in enumerate(state_codes):\n",
    "    tiger_zip_file = 'tl_2013_{0}_tract.zip'.format(state_id)\n",
    "    tiger_shape_file = 'tl_2013_{0}_tract.shp'.format(state_id)\n",
    "\n",
    "    # Unzip file, extract contents\n",
    "    zfile = zipfile.ZipFile(LOCAL_DATA_DIR + GEO_SUB_DIR + tiger_zip_file)\n",
    "    zfile.extractall(LOCAL_DATA_DIR + GEO_SUB_DIR)\n",
    "\n",
    "    # Load to GeoDataFrame\n",
    "    state_shape = gpd.GeoDataFrame.from_file(LOCAL_DATA_DIR + GEO_SUB_DIR + tiger_shape_file)\n",
    "    \n",
    "    state_shapes.append(state_shape)\n",
    "\n",
    "shapes = gpd.GeoDataFrame( pd.concat(state_shapes, ignore_index=True) )\n",
    "\n",
    "# Only keep counties that we are interested in\n",
    "if county_list is not None:\n",
    "    shapes = shapes[shapes[\"COUNTYFP\"].isin(county_list)]"
   ]
  },
  {
   "cell_type": "markdown",
   "metadata": {},
   "source": [
    "## Eliminate unneeded attributes, export shapes to geojson"
   ]
  },
  {
   "cell_type": "code",
   "execution_count": 34,
   "metadata": {
    "collapsed": false
   },
   "outputs": [],
   "source": [
    "small_shapes = gpd.GeoDataFrame()\n",
    "small_shapes[\"geometry\"] = shapes[\"geometry\"].simplify(tolerance=0.0001) # Simplify geometry to reduce file size\n",
    "small_shapes[\"fips\"] = shapes[\"GEOID\"]\n",
    "small_json = small_shapes.to_json()\n",
    "\n",
    "# Write to file\n",
    "with open(geo_outfile, 'w') as f:\n",
    "    f.write(small_json)"
   ]
  }
 ],
 "metadata": {
  "kernelspec": {
   "display_name": "Python 2",
   "language": "python",
   "name": "python2"
  },
  "language_info": {
   "codemirror_mode": {
    "name": "ipython",
    "version": 2
   },
   "file_extension": ".py",
   "mimetype": "text/x-python",
   "name": "python",
   "nbconvert_exporter": "python",
   "pygments_lexer": "ipython2",
   "version": "2.7.9"
  }
 },
 "nbformat": 4,
 "nbformat_minor": 0
}
