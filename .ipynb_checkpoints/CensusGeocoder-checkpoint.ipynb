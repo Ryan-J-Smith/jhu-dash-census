{
 "cells": [
  {
   "cell_type": "markdown",
   "metadata": {},
   "source": [
    "# Census geocoder\n",
    "\n",
    "In one of our proposed use cases, we want to find data on census tracts that a list of point data is drawn from.  Commonly this point data is represented as an address.  Obviously to get demographic information from the census tracts containing these points, we need to know how to identify those tracts.  To do this, we will need to use geocoding to convert addresses into tract identities.\n",
    "\n",
    "Here we will try out the [python-omgeo](https://github.com/azavea/python-omgeo/) module."
   ]
  },
  {
   "cell_type": "code",
   "execution_count": 6,
   "metadata": {
    "collapsed": false
   },
   "outputs": [],
   "source": [
    "from omgeo import Geocoder\n",
    "\n",
    "g = Geocoder([['omgeo.services.USCensus',{}]])\n",
    "result = g.geocode('1600 Pennsylvania Ave NW, Washington DC')"
   ]
  },
  {
   "cell_type": "code",
   "execution_count": 7,
   "metadata": {
    "collapsed": false
   },
   "outputs": [
    {
     "name": "stdout",
     "output_type": "stream",
     "text": [
      "{'upstream_response_info': [<USCensus 559ms>], 'candidates': [<1600 PENNSYLVANIA AVE NW, WASHINGTON, DC, 20502 (-77.03535, 38.898754) USCensus>]}\n"
     ]
    }
   ],
   "source": [
    "print result"
   ]
  },
  {
   "cell_type": "markdown",
   "metadata": {},
   "source": [
    "Looks like the omgeo module gives coordinates, but not tract number like we need.\n",
    "\n",
    "Another possible source is the [Census Geocoding Services](http://www.census.gov/data/developers/data-sets/Geocoding-services.html).  The API documentation is [here](http://geocoding.geo.census.gov/geocoder/Geocoding_Services_API.pdf)"
   ]
  },
  {
   "cell_type": "code",
   "execution_count": 48,
   "metadata": {
    "collapsed": false
   },
   "outputs": [
    {
     "name": "stdout",
     "output_type": "stream",
     "text": [
      "http://geocoding.geo.census.gov/geocoder/geographies/address?city=Washington+DC&format=json&vintage=ACS2013_Current&benchmark=Public_AR_Current&state=DC&street=1600+NW+Pennsylvania+Ave\n",
      "{\"result\":{\"input\":{\"address\":{\"street\":\"1600 NW Pennsylvania Ave\",\"city\":\"Washington DC\",\"state\":\"DC\"},\"benchmark\":{\"id\":\"4\",\"benchmarkName\":\"Public_AR_Current\",\"benchmarkDescription\":\"Public Address Ranges - Current Benchmark\",\"isDefault\":false},\"vintage\":{\"id\":\"413\",\"vintageName\":\"ACS2013_Current\",\"vintageDescription\":\"ACS2013 Vintage - Current Benchmark\",\"isDefault\":false}},\"addressMatches\":[{\"matchedAddress\":\"1600 PENNSYLVANIA AVE NW, WASHINGTON, DC, 20502\",\"coordinates\":{\"x\":-77.03535,\"y\":38.898754},\"tigerLine\":{\"tigerLineId\":\"76225813\",\"side\":\"L\"},\"addressComponents\":{\"fromAddress\":\"1600\",\"toAddress\":\"1698\",\"preQualifier\":\"\",\"preDirection\":\"\",\"preType\":\"\",\"streetName\":\"PENNSYLVANIA\",\"suffixType\":\"AVE\",\"suffixDirection\":\"NW\",\"suffixQualifier\":\"\",\"city\":\"WASHINGTON\",\"state\":\"DC\",\"zip\":\"20502\"},\"geographies\":{\"Counties\":[{\"OID\":27553331264532,\"STATE\":\"11\",\"FUNCSTAT\":\"F\",\"NAME\":\"District of Columbia\",\"AREAWATER\":18633497,\"LSADC\":\"00\",\"CENTLON\":\"-077.0162745\",\"BASENAME\":\"District of Columbia\",\"INTPTLAT\":\"+38.9041031\",\"COUNTYCC\":\"H6\",\"MTFCC\":\"G4020\",\"COUNTY\":\"001\",\"GEOID\":\"11001\",\"CENTLAT\":\"+38.9047579\",\"INTPTLON\":\"-077.0172290\",\"AREALAND\":158364924,\"COUNTYNS\":\"01702382\",\"OBJECTID\":654}],\"Census Tracts\":[{\"OID\":20753331304119,\"STATE\":\"11\",\"FUNCSTAT\":\"S\",\"NAME\":\"Census Tract 62.02\",\"AREAWATER\":4982522,\"LSADC\":\"CT\",\"CENTLON\":\"-077.0353387\",\"BASENAME\":\"62.02\",\"INTPTLAT\":\"+38.8809933\",\"MTFCC\":\"G5020\",\"COUNTY\":\"001\",\"GEOID\":\"11001006202\",\"CENTLAT\":\"+38.8802246\",\"INTPTLON\":\"-077.0363219\",\"AREALAND\":6586010,\"TRACT\":\"006202\",\"OBJECTID\":30454}],\"States\":[{\"OID\":27453331294090,\"STATE\":\"11\",\"FUNCSTAT\":\"A\",\"NAME\":\"District of Columbia\",\"AREAWATER\":18633497,\"LSADC\":\"00\",\"CENTLON\":\"-077.0162745\",\"STUSAB\":\"DC\",\"BASENAME\":\"District of Columbia\",\"INTPTLAT\":\"+38.9041031\",\"MTFCC\":\"G4000\",\"STATENS\":\"01702382\",\"DIVISION\":\"5\",\"GEOID\":\"11\",\"CENTLAT\":\"+38.9047579\",\"INTPTLON\":\"-077.0172290\",\"REGION\":\"3\",\"AREALAND\":158364924,\"OBJECTID\":50}]}},{\"matchedAddress\":\"1600 PENNSYLVANIA AVE SE, WASHINGTON, DC, 20003\",\"coordinates\":{\"x\":-76.981995,\"y\":38.87897},\"tigerLine\":{\"tigerLineId\":\"638666807\",\"side\":\"L\"},\"addressComponents\":{\"fromAddress\":\"1574\",\"toAddress\":\"1698\",\"preQualifier\":\"\",\"preDirection\":\"\",\"preType\":\"\",\"streetName\":\"PENNSYLVANIA\",\"suffixType\":\"AVE\",\"suffixDirection\":\"SE\",\"suffixQualifier\":\"\",\"city\":\"WASHINGTON\",\"state\":\"DC\",\"zip\":\"20003\"},\"geographies\":{\"Counties\":[{\"OID\":27553331264532,\"STATE\":\"11\",\"FUNCSTAT\":\"F\",\"NAME\":\"District of Columbia\",\"AREAWATER\":18633497,\"LSADC\":\"00\",\"CENTLON\":\"-077.0162745\",\"BASENAME\":\"District of Columbia\",\"INTPTLAT\":\"+38.9041031\",\"COUNTYCC\":\"H6\",\"MTFCC\":\"G4020\",\"COUNTY\":\"001\",\"GEOID\":\"11001\",\"CENTLAT\":\"+38.9047579\",\"INTPTLON\":\"-077.0172290\",\"AREALAND\":158364924,\"COUNTYNS\":\"01702382\",\"OBJECTID\":654}],\"Census Tracts\":[{\"OID\":20753331304333,\"STATE\":\"11\",\"FUNCSTAT\":\"S\",\"NAME\":\"Census Tract 71\",\"AREAWATER\":149901,\"LSADC\":\"CT\",\"CENTLON\":\"-076.9869877\",\"BASENAME\":\"71\",\"INTPTLAT\":\"+38.8773196\",\"MTFCC\":\"G5020\",\"COUNTY\":\"001\",\"GEOID\":\"11001007100\",\"CENTLAT\":\"+38.8772038\",\"INTPTLON\":\"-076.9870754\",\"AREALAND\":601671,\"TRACT\":\"007100\",\"OBJECTID\":10710}],\"States\":[{\"OID\":27453331294090,\"STATE\":\"11\",\"FUNCSTAT\":\"A\",\"NAME\":\"District of Columbia\",\"AREAWATER\":18633497,\"LSADC\":\"00\",\"CENTLON\":\"-077.0162745\",\"STUSAB\":\"DC\",\"BASENAME\":\"District of Columbia\",\"INTPTLAT\":\"+38.9041031\",\"MTFCC\":\"G4000\",\"STATENS\":\"01702382\",\"DIVISION\":\"5\",\"GEOID\":\"11\",\"CENTLAT\":\"+38.9047579\",\"INTPTLON\":\"-077.0172290\",\"REGION\":\"3\",\"AREALAND\":158364924,\"OBJECTID\":50}]}}]}}\n"
     ]
    }
   ],
   "source": [
    "import requests, json\n",
    "\n",
    "street = \"1600 NW Pennsylvania Ave\"\n",
    "city = \"Washington DC\"\n",
    "state = \"DC\"\n",
    "\n",
    "payload = {'street': street, 'city': city, 'state': state, 'benchmark': 'Public_AR_Current', 'vintage':'ACS2013_Current', 'format':'json'}\n",
    "\n",
    "base_url = \"http://geocoding.geo.census.gov/geocoder/geographies/address\"\n",
    "\n",
    "r = requests.get(base_url, params=payload)\n",
    "json_data = json.loads(r.text)\n",
    "\n",
    "print(r.url)\n",
    "print(r.text)"
   ]
  },
  {
   "cell_type": "code",
   "execution_count": 49,
   "metadata": {
    "collapsed": false
   },
   "outputs": [
    {
     "data": {
      "text/plain": [
       "{u'addressMatches': [{u'addressComponents': {u'city': u'WASHINGTON',\n",
       "    u'fromAddress': u'1600',\n",
       "    u'preDirection': u'',\n",
       "    u'preQualifier': u'',\n",
       "    u'preType': u'',\n",
       "    u'state': u'DC',\n",
       "    u'streetName': u'PENNSYLVANIA',\n",
       "    u'suffixDirection': u'NW',\n",
       "    u'suffixQualifier': u'',\n",
       "    u'suffixType': u'AVE',\n",
       "    u'toAddress': u'1698',\n",
       "    u'zip': u'20502'},\n",
       "   u'coordinates': {u'x': -77.03535, u'y': 38.898754},\n",
       "   u'geographies': {u'Census Tracts': [{u'AREALAND': 6586010,\n",
       "      u'AREAWATER': 4982522,\n",
       "      u'BASENAME': u'62.02',\n",
       "      u'CENTLAT': u'+38.8802246',\n",
       "      u'CENTLON': u'-077.0353387',\n",
       "      u'COUNTY': u'001',\n",
       "      u'FUNCSTAT': u'S',\n",
       "      u'GEOID': u'11001006202',\n",
       "      u'INTPTLAT': u'+38.8809933',\n",
       "      u'INTPTLON': u'-077.0363219',\n",
       "      u'LSADC': u'CT',\n",
       "      u'MTFCC': u'G5020',\n",
       "      u'NAME': u'Census Tract 62.02',\n",
       "      u'OBJECTID': 30454,\n",
       "      u'OID': 20753331304119L,\n",
       "      u'STATE': u'11',\n",
       "      u'TRACT': u'006202'}],\n",
       "    u'Counties': [{u'AREALAND': 158364924,\n",
       "      u'AREAWATER': 18633497,\n",
       "      u'BASENAME': u'District of Columbia',\n",
       "      u'CENTLAT': u'+38.9047579',\n",
       "      u'CENTLON': u'-077.0162745',\n",
       "      u'COUNTY': u'001',\n",
       "      u'COUNTYCC': u'H6',\n",
       "      u'COUNTYNS': u'01702382',\n",
       "      u'FUNCSTAT': u'F',\n",
       "      u'GEOID': u'11001',\n",
       "      u'INTPTLAT': u'+38.9041031',\n",
       "      u'INTPTLON': u'-077.0172290',\n",
       "      u'LSADC': u'00',\n",
       "      u'MTFCC': u'G4020',\n",
       "      u'NAME': u'District of Columbia',\n",
       "      u'OBJECTID': 654,\n",
       "      u'OID': 27553331264532L,\n",
       "      u'STATE': u'11'}],\n",
       "    u'States': [{u'AREALAND': 158364924,\n",
       "      u'AREAWATER': 18633497,\n",
       "      u'BASENAME': u'District of Columbia',\n",
       "      u'CENTLAT': u'+38.9047579',\n",
       "      u'CENTLON': u'-077.0162745',\n",
       "      u'DIVISION': u'5',\n",
       "      u'FUNCSTAT': u'A',\n",
       "      u'GEOID': u'11',\n",
       "      u'INTPTLAT': u'+38.9041031',\n",
       "      u'INTPTLON': u'-077.0172290',\n",
       "      u'LSADC': u'00',\n",
       "      u'MTFCC': u'G4000',\n",
       "      u'NAME': u'District of Columbia',\n",
       "      u'OBJECTID': 50,\n",
       "      u'OID': 27453331294090L,\n",
       "      u'REGION': u'3',\n",
       "      u'STATE': u'11',\n",
       "      u'STATENS': u'01702382',\n",
       "      u'STUSAB': u'DC'}]},\n",
       "   u'matchedAddress': u'1600 PENNSYLVANIA AVE NW, WASHINGTON, DC, 20502',\n",
       "   u'tigerLine': {u'side': u'L', u'tigerLineId': u'76225813'}},\n",
       "  {u'addressComponents': {u'city': u'WASHINGTON',\n",
       "    u'fromAddress': u'1574',\n",
       "    u'preDirection': u'',\n",
       "    u'preQualifier': u'',\n",
       "    u'preType': u'',\n",
       "    u'state': u'DC',\n",
       "    u'streetName': u'PENNSYLVANIA',\n",
       "    u'suffixDirection': u'SE',\n",
       "    u'suffixQualifier': u'',\n",
       "    u'suffixType': u'AVE',\n",
       "    u'toAddress': u'1698',\n",
       "    u'zip': u'20003'},\n",
       "   u'coordinates': {u'x': -76.981995, u'y': 38.87897},\n",
       "   u'geographies': {u'Census Tracts': [{u'AREALAND': 601671,\n",
       "      u'AREAWATER': 149901,\n",
       "      u'BASENAME': u'71',\n",
       "      u'CENTLAT': u'+38.8772038',\n",
       "      u'CENTLON': u'-076.9869877',\n",
       "      u'COUNTY': u'001',\n",
       "      u'FUNCSTAT': u'S',\n",
       "      u'GEOID': u'11001007100',\n",
       "      u'INTPTLAT': u'+38.8773196',\n",
       "      u'INTPTLON': u'-076.9870754',\n",
       "      u'LSADC': u'CT',\n",
       "      u'MTFCC': u'G5020',\n",
       "      u'NAME': u'Census Tract 71',\n",
       "      u'OBJECTID': 10710,\n",
       "      u'OID': 20753331304333L,\n",
       "      u'STATE': u'11',\n",
       "      u'TRACT': u'007100'}],\n",
       "    u'Counties': [{u'AREALAND': 158364924,\n",
       "      u'AREAWATER': 18633497,\n",
       "      u'BASENAME': u'District of Columbia',\n",
       "      u'CENTLAT': u'+38.9047579',\n",
       "      u'CENTLON': u'-077.0162745',\n",
       "      u'COUNTY': u'001',\n",
       "      u'COUNTYCC': u'H6',\n",
       "      u'COUNTYNS': u'01702382',\n",
       "      u'FUNCSTAT': u'F',\n",
       "      u'GEOID': u'11001',\n",
       "      u'INTPTLAT': u'+38.9041031',\n",
       "      u'INTPTLON': u'-077.0172290',\n",
       "      u'LSADC': u'00',\n",
       "      u'MTFCC': u'G4020',\n",
       "      u'NAME': u'District of Columbia',\n",
       "      u'OBJECTID': 654,\n",
       "      u'OID': 27553331264532L,\n",
       "      u'STATE': u'11'}],\n",
       "    u'States': [{u'AREALAND': 158364924,\n",
       "      u'AREAWATER': 18633497,\n",
       "      u'BASENAME': u'District of Columbia',\n",
       "      u'CENTLAT': u'+38.9047579',\n",
       "      u'CENTLON': u'-077.0162745',\n",
       "      u'DIVISION': u'5',\n",
       "      u'FUNCSTAT': u'A',\n",
       "      u'GEOID': u'11',\n",
       "      u'INTPTLAT': u'+38.9041031',\n",
       "      u'INTPTLON': u'-077.0172290',\n",
       "      u'LSADC': u'00',\n",
       "      u'MTFCC': u'G4000',\n",
       "      u'NAME': u'District of Columbia',\n",
       "      u'OBJECTID': 50,\n",
       "      u'OID': 27453331294090L,\n",
       "      u'REGION': u'3',\n",
       "      u'STATE': u'11',\n",
       "      u'STATENS': u'01702382',\n",
       "      u'STUSAB': u'DC'}]},\n",
       "   u'matchedAddress': u'1600 PENNSYLVANIA AVE SE, WASHINGTON, DC, 20003',\n",
       "   u'tigerLine': {u'side': u'L', u'tigerLineId': u'638666807'}}],\n",
       " u'input': {u'address': {u'city': u'Washington DC',\n",
       "   u'state': u'DC',\n",
       "   u'street': u'1600 NW Pennsylvania Ave'},\n",
       "  u'benchmark': {u'benchmarkDescription': u'Public Address Ranges - Current Benchmark',\n",
       "   u'benchmarkName': u'Public_AR_Current',\n",
       "   u'id': u'4',\n",
       "   u'isDefault': False},\n",
       "  u'vintage': {u'id': u'413',\n",
       "   u'isDefault': False,\n",
       "   u'vintageDescription': u'ACS2013 Vintage - Current Benchmark',\n",
       "   u'vintageName': u'ACS2013_Current'}}}"
      ]
     },
     "execution_count": 49,
     "metadata": {},
     "output_type": "execute_result"
    }
   ],
   "source": [
    "json_data['result']"
   ]
  },
  {
   "cell_type": "code",
   "execution_count": 50,
   "metadata": {
    "collapsed": false
   },
   "outputs": [
    {
     "data": {
      "text/plain": [
       "u'11001006202'"
      ]
     },
     "execution_count": 50,
     "metadata": {},
     "output_type": "execute_result"
    }
   ],
   "source": [
    "json_data['result']['addressMatches'][0]['geographies']['Census Tracts'][0]['GEOID']"
   ]
  },
  {
   "cell_type": "markdown",
   "metadata": {},
   "source": [
    "## Getting single-address FIPS with a function\n",
    "\n",
    "Now that we have roughly figured out how to make a request for a single address, we will define it as a function."
   ]
  },
  {
   "cell_type": "code",
   "execution_count": 89,
   "metadata": {
    "collapsed": true
   },
   "outputs": [],
   "source": [
    "def get_fips_from_address(street, city, state):\n",
    "    payload = {'street': street, 'city': city, 'state': state, 'benchmark': 'Public_AR_Current', 'vintage':'ACS2013_Current', 'format':'json'}\n",
    "\n",
    "    base_url = \"http://geocoding.geo.census.gov/geocoder/geographies/address\"\n",
    "\n",
    "    r = requests.get(base_url, params=payload)\n",
    "    json_data = json.loads(r.text)\n",
    "    \n",
    "    fips = json_data['result']['addressMatches'][0]['geographies']['Census Tracts'][0]['GEOID']\n",
    "    \n",
    "    return str(fips)"
   ]
  },
  {
   "cell_type": "code",
   "execution_count": 90,
   "metadata": {
    "collapsed": false
   },
   "outputs": [
    {
     "name": "stdout",
     "output_type": "stream",
     "text": [
      "11001006202\n"
     ]
    }
   ],
   "source": [
    "print get_fips_from_address('1600 Pennsylvania Ave NW', 'Washington DC', 'DC')"
   ]
  },
  {
   "cell_type": "markdown",
   "metadata": {},
   "source": [
    "## Getting FIPS by batch processing\n",
    "\n",
    "Performing geocoding one address at a time is very slow.  Ideally we would pass a batch of addresses all at once.\n",
    "\n",
    "According to the documentation, batch processing requires submitting a .CSV file with the following components:\n",
    "\n",
    "`Unique ID, Street address, City, State, ZIP`\n",
    "\n",
    "Our existing whole foods addresses aren't quite like that, so we will need to import them, create a new CSV with the proper ordering and then submit the batch process request."
   ]
  },
  {
   "cell_type": "code",
   "execution_count": null,
   "metadata": {
    "collapsed": true
   },
   "outputs": [],
   "source": []
  },
  {
   "cell_type": "markdown",
   "metadata": {},
   "source": [
    "# Converting all Whole Foods addresses"
   ]
  },
  {
   "cell_type": "code",
   "execution_count": 62,
   "metadata": {
    "collapsed": false
   },
   "outputs": [
    {
     "data": {
      "text/plain": [
       "'Monterey'"
      ]
     },
     "execution_count": 62,
     "metadata": {},
     "output_type": "execute_result"
    }
   ],
   "source": [
    "import pandas as pd\n",
    "input_file = './data/wholefoods_addresses.csv'\n",
    "\n",
    "address_df = pd.read_csv(input_file)\n"
   ]
  },
  {
   "cell_type": "code",
   "execution_count": null,
   "metadata": {
    "collapsed": false
   },
   "outputs": [],
   "source": [
    "fips_codes = []\n",
    "\n",
    "for row in range(0, len(address_df)):\n",
    "    street = address_df.iloc[row][\"street\"]\n",
    "    city = address_df.iloc[row][\"city\"]\n",
    "    state = address_df.iloc[row][\"state\"]\n",
    "    \n",
    "    try:\n",
    "        fips = get_fips_from_address(street, city, state)    \n",
    "    except:\n",
    "        continue\n",
    "    \n",
    "    fips_codes.append(fips)\n",
    "\n"
   ]
  },
  {
   "cell_type": "code",
   "execution_count": 88,
   "metadata": {
    "collapsed": false
   },
   "outputs": [],
   "source": [
    "import csv\n",
    "\n",
    "outfile = \"./data/wholefoods_tracts.csv\"\n",
    "with open(outfile, 'w') as f:\n",
    "    writer = csv.writer(f, lineterminator='\\n')\n",
    "    for val in fips_codes:\n",
    "        writer.writerow([val])"
   ]
  },
  {
   "cell_type": "code",
   "execution_count": null,
   "metadata": {
    "collapsed": true
   },
   "outputs": [],
   "source": []
  }
 ],
 "metadata": {
  "kernelspec": {
   "display_name": "Python 2",
   "language": "python",
   "name": "python2"
  },
  "language_info": {
   "codemirror_mode": {
    "name": "ipython",
    "version": 2
   },
   "file_extension": ".py",
   "mimetype": "text/x-python",
   "name": "python",
   "nbconvert_exporter": "python",
   "pygments_lexer": "ipython2",
   "version": "2.7.8"
  }
 },
 "nbformat": 4,
 "nbformat_minor": 0
}
