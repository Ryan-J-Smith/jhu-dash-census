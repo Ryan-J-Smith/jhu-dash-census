{
 "cells": [
  {
   "cell_type": "markdown",
   "metadata": {},
   "source": [
    "# Merge Geography and Data\n",
    "\n",
    "For mapping purposes, we need to have the data and the geometry available in the same file.  This script will demonstrate how to do this in Python."
   ]
  },
  {
   "cell_type": "code",
   "execution_count": 70,
   "metadata": {
    "collapsed": true
   },
   "outputs": [],
   "source": [
    "import geopandas as gpd\n",
    "import pandas as pd\n",
    "\n",
    "geo_file = \"./data/maryland_geo_data.json\"\n",
    "data_file = \"./data/class_and_label.csv\"\n",
    "output_file = \"./data/cluster_joined.json\""
   ]
  },
  {
   "cell_type": "code",
   "execution_count": 71,
   "metadata": {
    "collapsed": false
   },
   "outputs": [],
   "source": [
    "geo_shapes = gpd.GeoDataFrame.from_file(geo_file)\n",
    "geo_data = pd.read_csv(data_file, header = None, names = [\"fips\", \"data\"])"
   ]
  },
  {
   "cell_type": "code",
   "execution_count": 72,
   "metadata": {
    "collapsed": false
   },
   "outputs": [
    {
     "name": "stdout",
     "output_type": "stream",
     "text": [
      "1406\n"
     ]
    },
    {
     "data": {
      "text/html": [
       "<div>\n",
       "<table border=\"1\" class=\"dataframe\">\n",
       "  <thead>\n",
       "    <tr style=\"text-align: right;\">\n",
       "      <th></th>\n",
       "      <th>fips</th>\n",
       "      <th>geometry</th>\n",
       "    </tr>\n",
       "  </thead>\n",
       "  <tbody>\n",
       "    <tr>\n",
       "      <th>0</th>\n",
       "      <td>24005403100</td>\n",
       "      <td>POLYGON ((-76.74490999999999 39.359858, -76.74...</td>\n",
       "    </tr>\n",
       "    <tr>\n",
       "      <th>1</th>\n",
       "      <td>24005403201</td>\n",
       "      <td>POLYGON ((-76.733688 39.362045, -76.724599 39....</td>\n",
       "    </tr>\n",
       "    <tr>\n",
       "      <th>2</th>\n",
       "      <td>24033807304</td>\n",
       "      <td>POLYGON ((-76.971706 39.018576, -76.969765 39....</td>\n",
       "    </tr>\n",
       "    <tr>\n",
       "      <th>3</th>\n",
       "      <td>24033807305</td>\n",
       "      <td>POLYGON ((-76.977278 39.010947, -76.971723 39....</td>\n",
       "    </tr>\n",
       "    <tr>\n",
       "      <th>4</th>\n",
       "      <td>24033807405</td>\n",
       "      <td>POLYGON ((-76.94985699999999 39.022085, -76.94...</td>\n",
       "    </tr>\n",
       "  </tbody>\n",
       "</table>\n",
       "</div>"
      ],
      "text/plain": [
       "          fips                                           geometry\n",
       "0  24005403100  POLYGON ((-76.74490999999999 39.359858, -76.74...\n",
       "1  24005403201  POLYGON ((-76.733688 39.362045, -76.724599 39....\n",
       "2  24033807304  POLYGON ((-76.971706 39.018576, -76.969765 39....\n",
       "3  24033807305  POLYGON ((-76.977278 39.010947, -76.971723 39....\n",
       "4  24033807405  POLYGON ((-76.94985699999999 39.022085, -76.94..."
      ]
     },
     "execution_count": 72,
     "metadata": {},
     "output_type": "execute_result"
    }
   ],
   "source": [
    "print len(geo_shapes)\n",
    "geo_shapes[\"fips\"] = geo_shapes[\"fips\"].astype(str)\n",
    "geo_shapes.head()"
   ]
  },
  {
   "cell_type": "code",
   "execution_count": 73,
   "metadata": {
    "collapsed": false
   },
   "outputs": [
    {
     "name": "stdout",
     "output_type": "stream",
     "text": [
      "1407\n"
     ]
    },
    {
     "data": {
      "text/html": [
       "<div>\n",
       "<table border=\"1\" class=\"dataframe\">\n",
       "  <thead>\n",
       "    <tr style=\"text-align: right;\">\n",
       "      <th></th>\n",
       "      <th>fips</th>\n",
       "      <th>data</th>\n",
       "    </tr>\n",
       "  </thead>\n",
       "  <tbody>\n",
       "    <tr>\n",
       "      <th>0</th>\n",
       "      <td>fips</td>\n",
       "      <td>label</td>\n",
       "    </tr>\n",
       "    <tr>\n",
       "      <th>1</th>\n",
       "      <td>24001000100</td>\n",
       "      <td>6</td>\n",
       "    </tr>\n",
       "    <tr>\n",
       "      <th>2</th>\n",
       "      <td>24001000200</td>\n",
       "      <td>6</td>\n",
       "    </tr>\n",
       "    <tr>\n",
       "      <th>3</th>\n",
       "      <td>24001000300</td>\n",
       "      <td>6</td>\n",
       "    </tr>\n",
       "    <tr>\n",
       "      <th>4</th>\n",
       "      <td>24001000400</td>\n",
       "      <td>6</td>\n",
       "    </tr>\n",
       "  </tbody>\n",
       "</table>\n",
       "</div>"
      ],
      "text/plain": [
       "          fips   data\n",
       "0         fips  label\n",
       "1  24001000100      6\n",
       "2  24001000200      6\n",
       "3  24001000300      6\n",
       "4  24001000400      6"
      ]
     },
     "execution_count": 73,
     "metadata": {},
     "output_type": "execute_result"
    }
   ],
   "source": [
    "print(len(geo_data))\n",
    "geo_data[\"fips\"] = geo_data[\"fips\"].astype(str)\n",
    "geo_data.head()"
   ]
  },
  {
   "cell_type": "code",
   "execution_count": 74,
   "metadata": {
    "collapsed": false
   },
   "outputs": [],
   "source": [
    "merged_gdf = geo_shapes.merge(geo_data, on=\"fips\")"
   ]
  },
  {
   "cell_type": "code",
   "execution_count": 75,
   "metadata": {
    "collapsed": false
   },
   "outputs": [
    {
     "data": {
      "text/html": [
       "<div>\n",
       "<table border=\"1\" class=\"dataframe\">\n",
       "  <thead>\n",
       "    <tr style=\"text-align: right;\">\n",
       "      <th></th>\n",
       "      <th>fips</th>\n",
       "      <th>geometry</th>\n",
       "      <th>data</th>\n",
       "    </tr>\n",
       "  </thead>\n",
       "  <tbody>\n",
       "    <tr>\n",
       "      <th>0</th>\n",
       "      <td>24005403100</td>\n",
       "      <td>POLYGON ((-76.74490999999999 39.359858, -76.74...</td>\n",
       "      <td>9</td>\n",
       "    </tr>\n",
       "    <tr>\n",
       "      <th>1</th>\n",
       "      <td>24005403201</td>\n",
       "      <td>POLYGON ((-76.733688 39.362045, -76.724599 39....</td>\n",
       "      <td>9</td>\n",
       "    </tr>\n",
       "    <tr>\n",
       "      <th>2</th>\n",
       "      <td>24033807304</td>\n",
       "      <td>POLYGON ((-76.971706 39.018576, -76.969765 39....</td>\n",
       "      <td>4</td>\n",
       "    </tr>\n",
       "    <tr>\n",
       "      <th>3</th>\n",
       "      <td>24033807305</td>\n",
       "      <td>POLYGON ((-76.977278 39.010947, -76.971723 39....</td>\n",
       "      <td>4</td>\n",
       "    </tr>\n",
       "    <tr>\n",
       "      <th>4</th>\n",
       "      <td>24033807405</td>\n",
       "      <td>POLYGON ((-76.94985699999999 39.022085, -76.94...</td>\n",
       "      <td>4</td>\n",
       "    </tr>\n",
       "  </tbody>\n",
       "</table>\n",
       "</div>"
      ],
      "text/plain": [
       "          fips                                           geometry data\n",
       "0  24005403100  POLYGON ((-76.74490999999999 39.359858, -76.74...    9\n",
       "1  24005403201  POLYGON ((-76.733688 39.362045, -76.724599 39....    9\n",
       "2  24033807304  POLYGON ((-76.971706 39.018576, -76.969765 39....    4\n",
       "3  24033807305  POLYGON ((-76.977278 39.010947, -76.971723 39....    4\n",
       "4  24033807405  POLYGON ((-76.94985699999999 39.022085, -76.94...    4"
      ]
     },
     "execution_count": 75,
     "metadata": {},
     "output_type": "execute_result"
    }
   ],
   "source": [
    "merged_gdf.head()"
   ]
  },
  {
   "cell_type": "code",
   "execution_count": 76,
   "metadata": {
    "collapsed": false
   },
   "outputs": [],
   "source": [
    "# Write to file\n",
    "merged_gdf = gpd.GeoDataFrame(merged_gdf)\n",
    "merged_json = merged_gdf.to_json()\n",
    "\n",
    "with open(output_file, 'w') as f:\n",
    "    f.write(merged_json)"
   ]
  },
  {
   "cell_type": "code",
   "execution_count": null,
   "metadata": {
    "collapsed": true
   },
   "outputs": [],
   "source": []
  }
 ],
 "metadata": {
  "kernelspec": {
   "display_name": "Python 2",
   "language": "python",
   "name": "python2"
  },
  "language_info": {
   "codemirror_mode": {
    "name": "ipython",
    "version": 2
   },
   "file_extension": ".py",
   "mimetype": "text/x-python",
   "name": "python",
   "nbconvert_exporter": "python",
   "pygments_lexer": "ipython2",
   "version": "2.7.8"
  }
 },
 "nbformat": 4,
 "nbformat_minor": 0
}
